{
 "cells": [
  {
   "cell_type": "markdown",
   "metadata": {},
   "source": [
    "## Prompting gpt-3.5-turbo to get a Definition for each NE type in cross-NER/BUSTER"
   ]
  },
  {
   "cell_type": "code",
   "execution_count": 1,
   "metadata": {},
   "outputs": [],
   "source": [
    "import json\n",
    "import sys\n",
    "import os\n",
    "\n",
    "from openai import OpenAI\n",
    "from dotenv import load_dotenv\n",
    "import tiktoken \n",
    "\n",
    "# my libraries\n",
    "sys.path.append(\"/Users/andrew/ExpertAI/MSEQA_for_NER/src/MSEQA_4_NER\")\n",
    "from data_handlers import data_handler_cross_NER\n",
    "from data_handlers import data_handler_BUSTER\n",
    "from data_handlers import data_handler_MIT"
   ]
  },
  {
   "cell_type": "code",
   "execution_count": 2,
   "metadata": {},
   "outputs": [
    {
     "name": "stdout",
     "output_type": "stream",
     "text": [
      "True\n"
     ]
    }
   ],
   "source": [
    "# Load API key from .env\n",
    "load_dotenv('./.env')\n",
    "print(os.environ.get('OPENAI_API_KEY') is not None)"
   ]
  },
  {
   "cell_type": "code",
   "execution_count": 3,
   "metadata": {},
   "outputs": [],
   "source": [
    "client = OpenAI()"
   ]
  },
  {
   "cell_type": "code",
   "execution_count": 4,
   "metadata": {},
   "outputs": [],
   "source": [
    "gpt_model = \"gpt-3.5-turbo-1106\""
   ]
  },
  {
   "cell_type": "code",
   "execution_count": 5,
   "metadata": {},
   "outputs": [
    {
     "name": "stdout",
     "output_type": "stream",
     "text": [
      "NE types:\n",
      "8\n",
      "['Amenity', 'Cuisine', 'Dish', 'Hours', 'Location', 'Price', 'Rating', 'Restaurant_Name']\n"
     ]
    }
   ],
   "source": [
    "dataset_name = \"restaurant\"\n",
    "with open(f\"../data_handlers/questions/MIT/sentences_per_ne_type_{dataset_name}.json\", 'r') as file:\n",
    "        sentences_per_ne_type = json.load(file)\n",
    "\n",
    "ne_types_list = list(sentences_per_ne_type.keys())\n",
    "\n",
    "print(\"NE types:\")\n",
    "print(len(ne_types_list))\n",
    "print(ne_types_list)"
   ]
  },
  {
   "cell_type": "code",
   "execution_count": 7,
   "metadata": {},
   "outputs": [],
   "source": [
    "def num_tokens_from_messages(messages, model=\"gpt-3.5-turbo-1106\"):\n",
    "    \"\"\"Return the number of tokens used in the input prompt.\"\"\"\n",
    "    try:\n",
    "        encoding = tiktoken.encoding_for_model(model)\n",
    "    except KeyError:\n",
    "        print(\"Warning: model not found. Using cl100k_base encoding.\")\n",
    "        encoding = tiktoken.get_encoding(\"cl100k_base\")\n",
    "    if model in {\n",
    "        \"gpt-3.5-turbo-0613\",\n",
    "        \"gpt-3.5-turbo-16k-0613\",\n",
    "        \"gpt-4-0314\",\n",
    "        \"gpt-4-32k-0314\",\n",
    "        \"gpt-4-0613\",\n",
    "        \"gpt-4-32k-0613\",\n",
    "        }:\n",
    "        tokens_per_message = 3\n",
    "        tokens_per_name = 1\n",
    "    elif model == \"gpt-3.5-turbo-0301\":\n",
    "        tokens_per_message = 4  # every message follows <|start|>{role/name}\\n{content}<|end|>\\n\n",
    "        tokens_per_name = -1  # if there's a name, the role is omitted\n",
    "    elif \"gpt-3.5-turbo\" in model:\n",
    "        # print(\"Warning: gpt-3.5-turbo may update over time. Returning num tokens assuming gpt-3.5-turbo-0613.\")\n",
    "        return num_tokens_from_messages(messages, model=\"gpt-3.5-turbo-0613\")\n",
    "    elif \"gpt-4\" in model:\n",
    "        print(\"Warning: gpt-4 may update over time. Returning num tokens assuming gpt-4-0613.\")\n",
    "        return num_tokens_from_messages(messages, model=\"gpt-4-0613\")\n",
    "    else:\n",
    "        raise NotImplementedError(\n",
    "            f\"\"\"num_tokens_from_messages() is not implemented for model {model}. See https://github.com/openai/openai-python/blob/main/chatml.md for information on how messages are converted to tokens.\"\"\"\n",
    "        )\n",
    "    num_tokens = 0\n",
    "    for message in messages:\n",
    "        num_tokens += tokens_per_message\n",
    "        for key, value in message.items():\n",
    "            num_tokens += len(encoding.encode(value))\n",
    "            if key == \"name\":\n",
    "                num_tokens += tokens_per_name\n",
    "    num_tokens += 3  # every reply is primed with <|start|>assistant<|message|>\n",
    "    return num_tokens"
   ]
  },
  {
   "cell_type": "markdown",
   "metadata": {},
   "source": [
    "# PROMPT formulation"
   ]
  },
  {
   "cell_type": "markdown",
   "metadata": {},
   "source": [
    "System message"
   ]
  },
  {
   "cell_type": "code",
   "execution_count": null,
   "metadata": {},
   "outputs": [],
   "source": [
    "system_message = \"You are a helpful NER data annotator designed to output JSON.\"  # OpenAI documentations suggest to write also here to output JSON"
   ]
  },
  {
   "cell_type": "markdown",
   "metadata": {},
   "source": [
    "creating 1st 'user_prompt' using 'location' as example "
   ]
  },
  {
   "cell_type": "code",
   "execution_count": null,
   "metadata": {},
   "outputs": [],
   "source": [
    "ne_type = 'location'\n",
    "#related_data = sentences_per_ne_type[ne_type]\n",
    "\n",
    "#example_prompt = data_handler_cross_NER.generate_structured_prompt(related_data)\n",
    "\n",
    "example_prompt = \"Named Entity: 'location'. Examples: [{'sentence': 'He was awarded honorary degree from the University of Cambridge in Cambridge , UK , and the Copley Medal of the Royal Society in 1906 .', 'entities': ['Cambridge']}, {'sentence': 'According to onlookers, the communicant told the priest: \\\"You're in Ireland now\\\".', 'entities': ['Ireland']}, {'sentence': 'The Big Bend Country is part of the larger Columbia Country , which includes the Columbia Valley and upper Arrow Lakes .', 'entities': ['Arrow Lakes', 'Columbia Country', 'Big Bend Country', 'Columbia Valley']}]. Hints: You should not label 'here', 'there' and similar as 'location' entities.\\nInstructions: 1. Provide a concise definition for the named entity 'location' in the context of NER. 2. Provide guidelines by specifying what entities should not be labeled as 'location' and include potential pitfalls to avoid. Go beyond generic terms and delve into nuanced scenarios. Be explicit about potential ambiguities and provide guidance on distinguishing 'location' from similar entities.\\nOutput in JSON format: {\\\"Definition\\\": \\\"\\\", \\\"Guidelines\\\": \\\"\\\"}.\"\n",
    "\n",
    "print(\"example_prompt:\\n\")\n",
    "print(example_prompt)"
   ]
  },
  {
   "cell_type": "markdown",
   "metadata": {},
   "source": [
    "What would look like a desired gpt's answer"
   ]
  },
  {
   "cell_type": "code",
   "execution_count": null,
   "metadata": {},
   "outputs": [],
   "source": [
    "example_answer = \"{\\\"Definition\\\": \\\"\\'location\\' denotes geographic entities, such as cities, countries, and landmarks, that represent specific places on Earth.\\\", \\\"Guidelines\\\": \\\"Do not label abstract references. Be cautious with ambiguous terms like 'Paris Hilton' (person with a location name) or 'Amazon' (both a company and a river).\" # Be cautious with terms that may refer to both people and places, like 'Jordan' (person or country).\\\"}\"\n",
    "print(\"example answer:\")\n",
    "print(example_answer)"
   ]
  },
  {
   "cell_type": "markdown",
   "metadata": {},
   "source": [
    "The real prompt for the desired NE "
   ]
  },
  {
   "cell_type": "code",
   "execution_count": null,
   "metadata": {},
   "outputs": [],
   "source": [
    "ne_type = 'Advisors.GENERIC_CONSULTING_COMPANY'  # pick any NE\n",
    "ex_sentences = sentences_per_ne_type[ne_type]['sentences']\n",
    "ex_sentences_json = []\n",
    "for exsent in ex_sentences:\n",
    "    ex_sentences_json.append({'sentence': exsent['sentence'], 'entities': exsent['target_words_in_it']})\n",
    "real_prompt = f\"Now do the same for the Named Entity: \\'{sentences_per_ne_type[ne_type]['real_name']}\\', Examples: {ex_sentences_json}\"\n",
    "\n",
    "print(\"real prompt: \")\n",
    "print(real_prompt)"
   ]
  },
  {
   "cell_type": "code",
   "execution_count": null,
   "metadata": {},
   "outputs": [],
   "source": [
    "messages_to_send = [\n",
    "    {\n",
    "        \"role\": \"system\",\n",
    "        \"content\": system_message\n",
    "    },\n",
    "    {\n",
    "        \"role\": \"user\",\n",
    "        \"content\": example_prompt\n",
    "    },\n",
    "    {\n",
    "        \"role\": \"system\",\n",
    "        \"content\": example_answer\n",
    "    },\n",
    "    {\n",
    "        \"role\": \"user\",\n",
    "        \"content\": real_prompt\n",
    "    }\n",
    "]"
   ]
  },
  {
   "cell_type": "code",
   "execution_count": null,
   "metadata": {},
   "outputs": [],
   "source": [
    "n_input_tokens = num_tokens_from_messages(messages_to_send, gpt_model)\n",
    "print(f\"The input prompt has length in tokens: {n_input_tokens}\")"
   ]
  },
  {
   "cell_type": "code",
   "execution_count": null,
   "metadata": {},
   "outputs": [],
   "source": [
    "print(messages_to_send)"
   ]
  },
  {
   "cell_type": "markdown",
   "metadata": {},
   "source": [
    "### Pack it in 1 function"
   ]
  },
  {
   "cell_type": "code",
   "execution_count": 8,
   "metadata": {},
   "outputs": [],
   "source": [
    "def get_json_definition_for_ne(named_entity, sentences_per_ne_type, gpt_model_name, max_output_tokens):\n",
    "    # system message\n",
    "    system_message = \"You are a helpful NER data annotator designed to output JSON.\"\n",
    "    # user prompt example on location\n",
    "    example_prompt = \"Named Entity: 'location'. Examples: [{'sentence': 'He was awarded honorary degree from the University of Cambridge in Cambridge , UK , and the Copley Medal of the Royal Society in 1906 .', 'entities': ['Cambridge']}, {'sentence': 'According to onlookers, the communicant told the priest: \\\"You're in Ireland now\\\".', 'entities': ['Ireland']}, {'sentence': 'The Big Bend Country is part of the larger Columbia Country , which includes the Columbia Valley and upper Arrow Lakes .', 'entities': ['Arrow Lakes', 'Columbia Country', 'Big Bend Country', 'Columbia Valley']}]. Hints: You should not label 'here', 'there' and similar as 'location' entities.\\nInstructions: 1. Provide a concise definition for the named entity 'location' in the context of NER. 2. Provide guidelines by specifying what entities should not be labeled as 'location' and include potential pitfalls to avoid. Go beyond generic terms and delve into nuanced scenarios. Be explicit about potential ambiguities and provide guidance on distinguishing 'location' from similar entities.\\nOutput in JSON format: {\\\"Definition\\\": \\\"\\\", \\\"Guidelines\\\": \\\"\\\"}.\"\n",
    "    # example answer\n",
    "    example_answer = \"{\\\"Definition\\\": \\\"\\'location\\' denotes geographic entities, such as cities, countries, and landmarks, that represent specific places on Earth.\\\", \\\"Guidelines\\\": \\\"Do not label abstract references. Be cautious with ambiguous terms like 'Paris Hilton' (person with a location name) or 'Amazon' (both a company and a river).\"\n",
    "    # real prompt\n",
    "    exemplary_data = sentences_per_ne_type[named_entity]\n",
    "    ex_sentences = exemplary_data['sentences']\n",
    "    real_ne_name = exemplary_data['real_name']\n",
    "    ex_sentences_json = []\n",
    "    for exsent in ex_sentences:\n",
    "        ex_sentences_json.append({'sentence': exsent['sentence'], 'entities': exsent['target_words_in_it']})\n",
    "    real_prompt = f\"Now do the same for the Named Entity: \\'{real_ne_name}\\', Examples: {ex_sentences_json}\"\n",
    "    if exemplary_data['Hints'] != \"\":\n",
    "        real_prompt += f\". Hints: {exemplary_data['Hints']}\\n\"\n",
    "\n",
    "    # message to send\n",
    "    messages_to_send = [\n",
    "    {\n",
    "        \"role\": \"system\",\n",
    "        \"content\": system_message\n",
    "    },\n",
    "    {\n",
    "        \"role\": \"user\",\n",
    "        \"content\": example_prompt\n",
    "    },\n",
    "    {\n",
    "        \"role\": \"system\",\n",
    "        \"content\": example_answer\n",
    "    },\n",
    "    {\n",
    "        \"role\": \"user\",\n",
    "        \"content\": real_prompt\n",
    "    }\n",
    "    ]\n",
    "\n",
    "    n_input_tokens = num_tokens_from_messages(messages_to_send, gpt_model)\n",
    "    print(messages_to_send)\n",
    "\n",
    "    #for message in messages_to_send:\n",
    "    #print(message)\n",
    "    \n",
    "    if n_input_tokens > 1000:\n",
    "        raise ValueError(f\"Too many input tokens in messages_to_send: {len(messages_to_send)}, {messages_to_send}\")\n",
    "\n",
    "    print(f\"Sending prompt for NE: {named_entity}...\")\n",
    "    \n",
    "    completion = client.chat.completions.create(\n",
    "        messages=messages_to_send,\n",
    "        model=gpt_model_name,\n",
    "        max_tokens=max_output_tokens,\n",
    "        response_format={ \"type\": \"json_object\" }\n",
    "    )\n",
    "\n",
    "    choice = completion.choices[0]\n",
    "    finish_reason = choice.finish_reason\n",
    "    message = choice.message.content\n",
    "\n",
    "    #if finish_reason == 'length' and message[-2:] != \"\\\"}\":\n",
    "        #message += \"\\\"}\"\n",
    "\n",
    "    return {\"named_entity\": named_entity,\n",
    "            \"real_name\": real_ne_name,\n",
    "            \"sentences_as_example\": ex_sentences_json,\n",
    "            \"prompt_length\": completion.usage.prompt_tokens,\n",
    "            \"output_length\": completion.usage.completion_tokens,\n",
    "            \"gpt_answer\": message,\n",
    "            \"finish_reason\": finish_reason\n",
    "            }\n",
    "    "
   ]
  },
  {
   "cell_type": "markdown",
   "metadata": {},
   "source": [
    "### get all definitions"
   ]
  },
  {
   "cell_type": "code",
   "execution_count": 9,
   "metadata": {},
   "outputs": [
    {
     "name": "stdout",
     "output_type": "stream",
     "text": [
      "[{'role': 'system', 'content': 'You are a helpful NER data annotator designed to output JSON.'}, {'role': 'user', 'content': 'Named Entity: \\'location\\'. Examples: [{\\'sentence\\': \\'He was awarded honorary degree from the University of Cambridge in Cambridge , UK , and the Copley Medal of the Royal Society in 1906 .\\', \\'entities\\': [\\'Cambridge\\']}, {\\'sentence\\': \\'According to onlookers, the communicant told the priest: \"You\\'re in Ireland now\".\\', \\'entities\\': [\\'Ireland\\']}, {\\'sentence\\': \\'The Big Bend Country is part of the larger Columbia Country , which includes the Columbia Valley and upper Arrow Lakes .\\', \\'entities\\': [\\'Arrow Lakes\\', \\'Columbia Country\\', \\'Big Bend Country\\', \\'Columbia Valley\\']}]. Hints: You should not label \\'here\\', \\'there\\' and similar as \\'location\\' entities.\\nInstructions: 1. Provide a concise definition for the named entity \\'location\\' in the context of NER. 2. Provide guidelines by specifying what entities should not be labeled as \\'location\\' and include potential pitfalls to avoid. Go beyond generic terms and delve into nuanced scenarios. Be explicit about potential ambiguities and provide guidance on distinguishing \\'location\\' from similar entities.\\nOutput in JSON format: {\"Definition\": \"\", \"Guidelines\": \"\"}.'}, {'role': 'system', 'content': '{\"Definition\": \"\\'location\\' denotes geographic entities, such as cities, countries, and landmarks, that represent specific places on Earth.\", \"Guidelines\": \"Do not label abstract references. Be cautious with ambiguous terms like \\'Paris Hilton\\' (person with a location name) or \\'Amazon\\' (both a company and a river).'}, {'role': 'user', 'content': \"Now do the same for the Named Entity: 'amenity', Examples: [{'sentence': 'im looking for an upscale place that serves porkchops', 'entities': ['upscale place']}, {'sentence': 'i would like to go to a steampunk flavored bar could you direct me to one', 'entities': ['steampunk flavored']}, {'sentence': 'can you make me a reservation at gallaghers in manhattan for 5 pm this evening', 'entities': ['reservation']}]\"}]\n",
      "Sending prompt for NE: Amenity...\n",
      "[{'role': 'system', 'content': 'You are a helpful NER data annotator designed to output JSON.'}, {'role': 'user', 'content': 'Named Entity: \\'location\\'. Examples: [{\\'sentence\\': \\'He was awarded honorary degree from the University of Cambridge in Cambridge , UK , and the Copley Medal of the Royal Society in 1906 .\\', \\'entities\\': [\\'Cambridge\\']}, {\\'sentence\\': \\'According to onlookers, the communicant told the priest: \"You\\'re in Ireland now\".\\', \\'entities\\': [\\'Ireland\\']}, {\\'sentence\\': \\'The Big Bend Country is part of the larger Columbia Country , which includes the Columbia Valley and upper Arrow Lakes .\\', \\'entities\\': [\\'Arrow Lakes\\', \\'Columbia Country\\', \\'Big Bend Country\\', \\'Columbia Valley\\']}]. Hints: You should not label \\'here\\', \\'there\\' and similar as \\'location\\' entities.\\nInstructions: 1. Provide a concise definition for the named entity \\'location\\' in the context of NER. 2. Provide guidelines by specifying what entities should not be labeled as \\'location\\' and include potential pitfalls to avoid. Go beyond generic terms and delve into nuanced scenarios. Be explicit about potential ambiguities and provide guidance on distinguishing \\'location\\' from similar entities.\\nOutput in JSON format: {\"Definition\": \"\", \"Guidelines\": \"\"}.'}, {'role': 'system', 'content': '{\"Definition\": \"\\'location\\' denotes geographic entities, such as cities, countries, and landmarks, that represent specific places on Earth.\", \"Guidelines\": \"Do not label abstract references. Be cautious with ambiguous terms like \\'Paris Hilton\\' (person with a location name) or \\'Amazon\\' (both a company and a river).'}, {'role': 'user', 'content': \"Now do the same for the Named Entity: 'cuisine', Examples: [{'sentence': 'where can i find the best place chinese to eat', 'entities': ['chinese']}, {'sentence': 'i would like to go to a steampunk flavored bar could you direct me to one', 'entities': ['bar']}, {'sentence': 'are there any steak houses', 'entities': ['steak houses']}]\"}]\n",
      "Sending prompt for NE: Cuisine...\n",
      "[{'role': 'system', 'content': 'You are a helpful NER data annotator designed to output JSON.'}, {'role': 'user', 'content': 'Named Entity: \\'location\\'. Examples: [{\\'sentence\\': \\'He was awarded honorary degree from the University of Cambridge in Cambridge , UK , and the Copley Medal of the Royal Society in 1906 .\\', \\'entities\\': [\\'Cambridge\\']}, {\\'sentence\\': \\'According to onlookers, the communicant told the priest: \"You\\'re in Ireland now\".\\', \\'entities\\': [\\'Ireland\\']}, {\\'sentence\\': \\'The Big Bend Country is part of the larger Columbia Country , which includes the Columbia Valley and upper Arrow Lakes .\\', \\'entities\\': [\\'Arrow Lakes\\', \\'Columbia Country\\', \\'Big Bend Country\\', \\'Columbia Valley\\']}]. Hints: You should not label \\'here\\', \\'there\\' and similar as \\'location\\' entities.\\nInstructions: 1. Provide a concise definition for the named entity \\'location\\' in the context of NER. 2. Provide guidelines by specifying what entities should not be labeled as \\'location\\' and include potential pitfalls to avoid. Go beyond generic terms and delve into nuanced scenarios. Be explicit about potential ambiguities and provide guidance on distinguishing \\'location\\' from similar entities.\\nOutput in JSON format: {\"Definition\": \"\", \"Guidelines\": \"\"}.'}, {'role': 'system', 'content': '{\"Definition\": \"\\'location\\' denotes geographic entities, such as cities, countries, and landmarks, that represent specific places on Earth.\", \"Guidelines\": \"Do not label abstract references. Be cautious with ambiguous terms like \\'Paris Hilton\\' (person with a location name) or \\'Amazon\\' (both a company and a river).'}, {'role': 'user', 'content': \"Now do the same for the Named Entity: 'dish', Examples: [{'sentence': 'im looking for an upscale place that serves porkchops', 'entities': ['porkchops']}, {'sentence': 'i would love to find some local barbecue sauces within five miles of here', 'entities': ['barbecue sauces']}, {'sentence': 'can you take me to a place to eat sushi', 'entities': ['sushi']}]\"}]\n",
      "Sending prompt for NE: Dish...\n",
      "[{'role': 'system', 'content': 'You are a helpful NER data annotator designed to output JSON.'}, {'role': 'user', 'content': 'Named Entity: \\'location\\'. Examples: [{\\'sentence\\': \\'He was awarded honorary degree from the University of Cambridge in Cambridge , UK , and the Copley Medal of the Royal Society in 1906 .\\', \\'entities\\': [\\'Cambridge\\']}, {\\'sentence\\': \\'According to onlookers, the communicant told the priest: \"You\\'re in Ireland now\".\\', \\'entities\\': [\\'Ireland\\']}, {\\'sentence\\': \\'The Big Bend Country is part of the larger Columbia Country , which includes the Columbia Valley and upper Arrow Lakes .\\', \\'entities\\': [\\'Arrow Lakes\\', \\'Columbia Country\\', \\'Big Bend Country\\', \\'Columbia Valley\\']}]. Hints: You should not label \\'here\\', \\'there\\' and similar as \\'location\\' entities.\\nInstructions: 1. Provide a concise definition for the named entity \\'location\\' in the context of NER. 2. Provide guidelines by specifying what entities should not be labeled as \\'location\\' and include potential pitfalls to avoid. Go beyond generic terms and delve into nuanced scenarios. Be explicit about potential ambiguities and provide guidance on distinguishing \\'location\\' from similar entities.\\nOutput in JSON format: {\"Definition\": \"\", \"Guidelines\": \"\"}.'}, {'role': 'system', 'content': '{\"Definition\": \"\\'location\\' denotes geographic entities, such as cities, countries, and landmarks, that represent specific places on Earth.\", \"Guidelines\": \"Do not label abstract references. Be cautious with ambiguous terms like \\'Paris Hilton\\' (person with a location name) or \\'Amazon\\' (both a company and a river).'}, {'role': 'user', 'content': \"Now do the same for the Named Entity: 'hours', Examples: [{'sentence': 'where can i get pita bread late at night', 'entities': ['late at night']}, {'sentence': 'can you make me a reservation at gallaghers in manhattan for 5 pm this evening', 'entities': ['5 pm']}, {'sentence': 'could you find me a place to eat that has daily lunch specials', 'entities': ['daily lunch']}]\"}]\n",
      "Sending prompt for NE: Hours...\n",
      "[{'role': 'system', 'content': 'You are a helpful NER data annotator designed to output JSON.'}, {'role': 'user', 'content': 'Named Entity: \\'location\\'. Examples: [{\\'sentence\\': \\'He was awarded honorary degree from the University of Cambridge in Cambridge , UK , and the Copley Medal of the Royal Society in 1906 .\\', \\'entities\\': [\\'Cambridge\\']}, {\\'sentence\\': \\'According to onlookers, the communicant told the priest: \"You\\'re in Ireland now\".\\', \\'entities\\': [\\'Ireland\\']}, {\\'sentence\\': \\'The Big Bend Country is part of the larger Columbia Country , which includes the Columbia Valley and upper Arrow Lakes .\\', \\'entities\\': [\\'Arrow Lakes\\', \\'Columbia Country\\', \\'Big Bend Country\\', \\'Columbia Valley\\']}]. Hints: You should not label \\'here\\', \\'there\\' and similar as \\'location\\' entities.\\nInstructions: 1. Provide a concise definition for the named entity \\'location\\' in the context of NER. 2. Provide guidelines by specifying what entities should not be labeled as \\'location\\' and include potential pitfalls to avoid. Go beyond generic terms and delve into nuanced scenarios. Be explicit about potential ambiguities and provide guidance on distinguishing \\'location\\' from similar entities.\\nOutput in JSON format: {\"Definition\": \"\", \"Guidelines\": \"\"}.'}, {'role': 'system', 'content': '{\"Definition\": \"\\'location\\' denotes geographic entities, such as cities, countries, and landmarks, that represent specific places on Earth.\", \"Guidelines\": \"Do not label abstract references. Be cautious with ambiguous terms like \\'Paris Hilton\\' (person with a location name) or \\'Amazon\\' (both a company and a river).'}, {'role': 'user', 'content': \"Now do the same for the Named Entity: 'location', Examples: [{'sentence': 'where can i find the best place chinese to eat', 'entities': ['place']}, {'sentence': 'what can you tell me about the restaurants in this area are there any michelin star restaurants around here', 'entities': ['around here']}, {'sentence': 'i would love to find some local barbecue sauces within five miles of here', 'entities': ['local', 'five miles of here']}]\"}]\n",
      "Sending prompt for NE: Location...\n",
      "[{'role': 'system', 'content': 'You are a helpful NER data annotator designed to output JSON.'}, {'role': 'user', 'content': 'Named Entity: \\'location\\'. Examples: [{\\'sentence\\': \\'He was awarded honorary degree from the University of Cambridge in Cambridge , UK , and the Copley Medal of the Royal Society in 1906 .\\', \\'entities\\': [\\'Cambridge\\']}, {\\'sentence\\': \\'According to onlookers, the communicant told the priest: \"You\\'re in Ireland now\".\\', \\'entities\\': [\\'Ireland\\']}, {\\'sentence\\': \\'The Big Bend Country is part of the larger Columbia Country , which includes the Columbia Valley and upper Arrow Lakes .\\', \\'entities\\': [\\'Arrow Lakes\\', \\'Columbia Country\\', \\'Big Bend Country\\', \\'Columbia Valley\\']}]. Hints: You should not label \\'here\\', \\'there\\' and similar as \\'location\\' entities.\\nInstructions: 1. Provide a concise definition for the named entity \\'location\\' in the context of NER. 2. Provide guidelines by specifying what entities should not be labeled as \\'location\\' and include potential pitfalls to avoid. Go beyond generic terms and delve into nuanced scenarios. Be explicit about potential ambiguities and provide guidance on distinguishing \\'location\\' from similar entities.\\nOutput in JSON format: {\"Definition\": \"\", \"Guidelines\": \"\"}.'}, {'role': 'system', 'content': '{\"Definition\": \"\\'location\\' denotes geographic entities, such as cities, countries, and landmarks, that represent specific places on Earth.\", \"Guidelines\": \"Do not label abstract references. Be cautious with ambiguous terms like \\'Paris Hilton\\' (person with a location name) or \\'Amazon\\' (both a company and a river).'}, {'role': 'user', 'content': \"Now do the same for the Named Entity: 'price', Examples: [{'sentence': 'im in the mood for a cheap burger', 'entities': ['cheap']}, {'sentence': 'where can i get a cheap tomato', 'entities': ['cheap']}, {'sentence': 'what restaurants along my current route are very inexpensive', 'entities': ['very inexpensive']}]\"}]\n",
      "Sending prompt for NE: Price...\n",
      "[{'role': 'system', 'content': 'You are a helpful NER data annotator designed to output JSON.'}, {'role': 'user', 'content': 'Named Entity: \\'location\\'. Examples: [{\\'sentence\\': \\'He was awarded honorary degree from the University of Cambridge in Cambridge , UK , and the Copley Medal of the Royal Society in 1906 .\\', \\'entities\\': [\\'Cambridge\\']}, {\\'sentence\\': \\'According to onlookers, the communicant told the priest: \"You\\'re in Ireland now\".\\', \\'entities\\': [\\'Ireland\\']}, {\\'sentence\\': \\'The Big Bend Country is part of the larger Columbia Country , which includes the Columbia Valley and upper Arrow Lakes .\\', \\'entities\\': [\\'Arrow Lakes\\', \\'Columbia Country\\', \\'Big Bend Country\\', \\'Columbia Valley\\']}]. Hints: You should not label \\'here\\', \\'there\\' and similar as \\'location\\' entities.\\nInstructions: 1. Provide a concise definition for the named entity \\'location\\' in the context of NER. 2. Provide guidelines by specifying what entities should not be labeled as \\'location\\' and include potential pitfalls to avoid. Go beyond generic terms and delve into nuanced scenarios. Be explicit about potential ambiguities and provide guidance on distinguishing \\'location\\' from similar entities.\\nOutput in JSON format: {\"Definition\": \"\", \"Guidelines\": \"\"}.'}, {'role': 'system', 'content': '{\"Definition\": \"\\'location\\' denotes geographic entities, such as cities, countries, and landmarks, that represent specific places on Earth.\", \"Guidelines\": \"Do not label abstract references. Be cautious with ambiguous terms like \\'Paris Hilton\\' (person with a location name) or \\'Amazon\\' (both a company and a river).'}, {'role': 'user', 'content': \"Now do the same for the Named Entity: 'rating', Examples: [{'sentence': 'where can i find the best place chinese to eat', 'entities': ['best']}, {'sentence': 'what can you tell me about the restaurants in this area are there any michelin star restaurants around here', 'entities': ['michelin star']}, {'sentence': 'where can i rent a room near a nice italian restaurant', 'entities': ['nice']}]\"}]\n",
      "Sending prompt for NE: Rating...\n",
      "[{'role': 'system', 'content': 'You are a helpful NER data annotator designed to output JSON.'}, {'role': 'user', 'content': 'Named Entity: \\'location\\'. Examples: [{\\'sentence\\': \\'He was awarded honorary degree from the University of Cambridge in Cambridge , UK , and the Copley Medal of the Royal Society in 1906 .\\', \\'entities\\': [\\'Cambridge\\']}, {\\'sentence\\': \\'According to onlookers, the communicant told the priest: \"You\\'re in Ireland now\".\\', \\'entities\\': [\\'Ireland\\']}, {\\'sentence\\': \\'The Big Bend Country is part of the larger Columbia Country , which includes the Columbia Valley and upper Arrow Lakes .\\', \\'entities\\': [\\'Arrow Lakes\\', \\'Columbia Country\\', \\'Big Bend Country\\', \\'Columbia Valley\\']}]. Hints: You should not label \\'here\\', \\'there\\' and similar as \\'location\\' entities.\\nInstructions: 1. Provide a concise definition for the named entity \\'location\\' in the context of NER. 2. Provide guidelines by specifying what entities should not be labeled as \\'location\\' and include potential pitfalls to avoid. Go beyond generic terms and delve into nuanced scenarios. Be explicit about potential ambiguities and provide guidance on distinguishing \\'location\\' from similar entities.\\nOutput in JSON format: {\"Definition\": \"\", \"Guidelines\": \"\"}.'}, {'role': 'system', 'content': '{\"Definition\": \"\\'location\\' denotes geographic entities, such as cities, countries, and landmarks, that represent specific places on Earth.\", \"Guidelines\": \"Do not label abstract references. Be cautious with ambiguous terms like \\'Paris Hilton\\' (person with a location name) or \\'Amazon\\' (both a company and a river).'}, {'role': 'user', 'content': \"Now do the same for the Named Entity: 'restaurant name', Examples: [{'sentence': 'show me the way to white castle', 'entities': ['white castle']}, {'sentence': 'is prattville pizza expensive', 'entities': ['prattville pizza']}, {'sentence': 'can you make me a reservation at gallaghers in manhattan for 5 pm this evening', 'entities': ['gallaghers']}]\"}]\n",
      "Sending prompt for NE: Restaurant_Name...\n"
     ]
    }
   ],
   "source": [
    "definitions = []\n",
    "for ne, exemplary_data in sentences_per_ne_type.items():\n",
    "    try:\n",
    "        ne_definition = get_json_definition_for_ne(ne, sentences_per_ne_type, gpt_model, max_output_tokens=100)\n",
    "        definitions.append(ne_definition)\n",
    "    except:\n",
    "        with open(f\"./definitions/{dataset_name}_err.json\", 'w') as f:\n",
    "            json.dump(definitions, f, indent=2)\n",
    "        print(f\"Something went wrong while processing NE: {ne}\")\n",
    "\n",
    "with open(f\"./definitions/{dataset_name}.json\", 'w') as f:\n",
    "    json.dump(definitions, f, indent=2)"
   ]
  },
  {
   "cell_type": "markdown",
   "metadata": {},
   "source": [
    "### END"
   ]
  }
 ],
 "metadata": {
  "kernelspec": {
   "display_name": "Python 3",
   "language": "python",
   "name": "python3"
  },
  "language_info": {
   "codemirror_mode": {
    "name": "ipython",
    "version": 3
   },
   "file_extension": ".py",
   "mimetype": "text/x-python",
   "name": "python",
   "nbconvert_exporter": "python",
   "pygments_lexer": "ipython3",
   "version": "3.8.13"
  }
 },
 "nbformat": 4,
 "nbformat_minor": 2
}
